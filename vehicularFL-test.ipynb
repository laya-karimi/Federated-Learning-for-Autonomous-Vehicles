{
 "cells": [
  {
   "cell_type": "code",
   "execution_count": 1,
   "id": "38c589e0-91d1-4eb0-94dc-0bd79b599b01",
   "metadata": {
    "editable": true,
    "slideshow": {
     "slide_type": ""
    },
    "tags": []
   },
   "outputs": [],
   "source": [
    "# Write a new requirements.txt on the fly\n",
    "import os\n",
    "# Note Jupyter will lock the file if it is open in a tab\n",
    "if os.path.isfile(\"my-vehicularFL-requirements.txt\"):\n",
    "    os.remove(\"my-vehicularFL-requirements.txt\")\n",
    "needed_tuple: tuple[str] = (\n",
    "    \"matplotlib\",\n",
    "    \"networkx\",\n",
    "    \"numpy\",\n",
    "    \"pillow\",\n",
    "    \"pulp\",\n",
    "    \"scipy\",\n",
    "    \"six\",\n",
    "    \"tensorboardx\",\n",
    "    \"tqdm\",\n",
    "    \"tensorboardx\",\n",
    ")\n",
    "with open(\"my-vehicularFL-requirements.txt\", \"a\") as require_file:\n",
    "    for package in needed_tuple:\n",
    "        require_file.write(package + \"\\n\")"
   ]
  },
  {
   "cell_type": "code",
   "execution_count": 2,
   "id": "fa0ccf48-7833-4a63-bbee-14cddbd71bd3",
   "metadata": {
    "editable": true,
    "slideshow": {
     "slide_type": ""
    },
    "tags": []
   },
   "outputs": [
    {
     "name": "stdout",
     "output_type": "stream",
     "text": [
      "Requirement already satisfied: pip in /home/lkarimi/myvenv/lib/python3.10/site-packages (24.1)\n",
      "Note: you may need to restart the kernel to use updated packages.\n",
      "Requirement already satisfied: matplotlib in /home/lkarimi/myvenv/lib/python3.10/site-packages (from -r my-vehicularFL-requirements.txt (line 1)) (3.8.4)\n",
      "Requirement already satisfied: networkx in /home/lkarimi/myvenv/lib/python3.10/site-packages (from -r my-vehicularFL-requirements.txt (line 2)) (3.3)\n",
      "Requirement already satisfied: numpy in /home/lkarimi/myvenv/lib/python3.10/site-packages (from -r my-vehicularFL-requirements.txt (line 3)) (1.26.4)\n",
      "Requirement already satisfied: pillow in /home/lkarimi/myvenv/lib/python3.10/site-packages (from -r my-vehicularFL-requirements.txt (line 4)) (10.3.0)\n",
      "Requirement already satisfied: pulp in /home/lkarimi/myvenv/lib/python3.10/site-packages (from -r my-vehicularFL-requirements.txt (line 5)) (2.8.0)\n",
      "Requirement already satisfied: scipy in /home/lkarimi/myvenv/lib/python3.10/site-packages (from -r my-vehicularFL-requirements.txt (line 6)) (1.13.0)\n",
      "Requirement already satisfied: six in /home/lkarimi/myvenv/lib/python3.10/site-packages (from -r my-vehicularFL-requirements.txt (line 7)) (1.16.0)\n",
      "Requirement already satisfied: tensorboardx in /home/lkarimi/myvenv/lib/python3.10/site-packages (from -r my-vehicularFL-requirements.txt (line 8)) (2.6.2.2)\n",
      "Requirement already satisfied: tqdm in /home/lkarimi/myvenv/lib/python3.10/site-packages (from -r my-vehicularFL-requirements.txt (line 9)) (4.66.2)\n",
      "Requirement already satisfied: contourpy>=1.0.1 in /home/lkarimi/myvenv/lib/python3.10/site-packages (from matplotlib->-r my-vehicularFL-requirements.txt (line 1)) (1.2.1)\n",
      "Requirement already satisfied: cycler>=0.10 in /home/lkarimi/myvenv/lib/python3.10/site-packages (from matplotlib->-r my-vehicularFL-requirements.txt (line 1)) (0.12.1)\n",
      "Requirement already satisfied: fonttools>=4.22.0 in /home/lkarimi/myvenv/lib/python3.10/site-packages (from matplotlib->-r my-vehicularFL-requirements.txt (line 1)) (4.51.0)\n",
      "Requirement already satisfied: kiwisolver>=1.3.1 in /home/lkarimi/myvenv/lib/python3.10/site-packages (from matplotlib->-r my-vehicularFL-requirements.txt (line 1)) (1.4.5)\n",
      "Requirement already satisfied: packaging>=20.0 in /home/lkarimi/myvenv/lib/python3.10/site-packages (from matplotlib->-r my-vehicularFL-requirements.txt (line 1)) (24.0)\n",
      "Requirement already satisfied: pyparsing>=2.3.1 in /home/lkarimi/myvenv/lib/python3.10/site-packages (from matplotlib->-r my-vehicularFL-requirements.txt (line 1)) (3.1.2)\n",
      "Requirement already satisfied: python-dateutil>=2.7 in /home/lkarimi/myvenv/lib/python3.10/site-packages (from matplotlib->-r my-vehicularFL-requirements.txt (line 1)) (2.9.0.post0)\n",
      "Requirement already satisfied: protobuf>=3.20 in /home/lkarimi/myvenv/lib/python3.10/site-packages (from tensorboardx->-r my-vehicularFL-requirements.txt (line 8)) (5.26.1)\n",
      "Note: you may need to restart the kernel to use updated packages.\n",
      "Looking in indexes: https://pypi.org/simple, https://download.pytorch.org/whl/cu124\n",
      "Requirement already satisfied: torch in /home/lkarimi/myvenv/lib/python3.10/site-packages (2.2.2)\n",
      "Requirement already satisfied: torchvision in /home/lkarimi/myvenv/lib/python3.10/site-packages (0.17.2)\n",
      "Requirement already satisfied: torchaudio in /home/lkarimi/myvenv/lib/python3.10/site-packages (2.2.2)\n",
      "Requirement already satisfied: filelock in /home/lkarimi/myvenv/lib/python3.10/site-packages (from torch) (3.13.4)\n",
      "Requirement already satisfied: typing-extensions>=4.8.0 in /home/lkarimi/myvenv/lib/python3.10/site-packages (from torch) (4.11.0)\n",
      "Requirement already satisfied: sympy in /home/lkarimi/myvenv/lib/python3.10/site-packages (from torch) (1.12)\n",
      "Requirement already satisfied: networkx in /home/lkarimi/myvenv/lib/python3.10/site-packages (from torch) (3.3)\n",
      "Requirement already satisfied: jinja2 in /home/lkarimi/myvenv/lib/python3.10/site-packages (from torch) (3.1.3)\n",
      "Requirement already satisfied: fsspec in /home/lkarimi/myvenv/lib/python3.10/site-packages (from torch) (2024.3.1)\n",
      "Requirement already satisfied: nvidia-cuda-nvrtc-cu12==12.1.105 in /home/lkarimi/myvenv/lib/python3.10/site-packages (from torch) (12.1.105)\n",
      "Requirement already satisfied: nvidia-cuda-runtime-cu12==12.1.105 in /home/lkarimi/myvenv/lib/python3.10/site-packages (from torch) (12.1.105)\n",
      "Requirement already satisfied: nvidia-cuda-cupti-cu12==12.1.105 in /home/lkarimi/myvenv/lib/python3.10/site-packages (from torch) (12.1.105)\n",
      "Requirement already satisfied: nvidia-cudnn-cu12==8.9.2.26 in /home/lkarimi/myvenv/lib/python3.10/site-packages (from torch) (8.9.2.26)\n",
      "Requirement already satisfied: nvidia-cublas-cu12==12.1.3.1 in /home/lkarimi/myvenv/lib/python3.10/site-packages (from torch) (12.1.3.1)\n",
      "Requirement already satisfied: nvidia-cufft-cu12==11.0.2.54 in /home/lkarimi/myvenv/lib/python3.10/site-packages (from torch) (11.0.2.54)\n",
      "Requirement already satisfied: nvidia-curand-cu12==10.3.2.106 in /home/lkarimi/myvenv/lib/python3.10/site-packages (from torch) (10.3.2.106)\n",
      "Requirement already satisfied: nvidia-cusolver-cu12==11.4.5.107 in /home/lkarimi/myvenv/lib/python3.10/site-packages (from torch) (11.4.5.107)\n",
      "Requirement already satisfied: nvidia-cusparse-cu12==12.1.0.106 in /home/lkarimi/myvenv/lib/python3.10/site-packages (from torch) (12.1.0.106)\n",
      "Requirement already satisfied: nvidia-nccl-cu12==2.19.3 in /home/lkarimi/myvenv/lib/python3.10/site-packages (from torch) (2.19.3)\n",
      "Requirement already satisfied: nvidia-nvtx-cu12==12.1.105 in /home/lkarimi/myvenv/lib/python3.10/site-packages (from torch) (12.1.105)\n",
      "Requirement already satisfied: triton==2.2.0 in /home/lkarimi/myvenv/lib/python3.10/site-packages (from torch) (2.2.0)\n",
      "Requirement already satisfied: nvidia-nvjitlink-cu12 in /home/lkarimi/myvenv/lib/python3.10/site-packages (from nvidia-cusolver-cu12==11.4.5.107->torch) (12.4.127)\n",
      "Requirement already satisfied: numpy in /home/lkarimi/myvenv/lib/python3.10/site-packages (from torchvision) (1.26.4)\n",
      "Requirement already satisfied: pillow!=8.3.*,>=5.3.0 in /home/lkarimi/myvenv/lib/python3.10/site-packages (from torchvision) (10.3.0)\n",
      "Requirement already satisfied: MarkupSafe>=2.0 in /home/lkarimi/myvenv/lib/python3.10/site-packages (from jinja2->torch) (2.1.5)\n",
      "Requirement already satisfied: mpmath>=0.19 in /home/lkarimi/myvenv/lib/python3.10/site-packages (from sympy->torch) (1.3.0)\n",
      "Note: you may need to restart the kernel to use updated packages.\n"
     ]
    }
   ],
   "source": [
    "%pip install --upgrade pip\n",
    "%pip install -r my-vehicularFL-requirements.txt\n",
    "%pip install torch torchvision torchaudio --extra-index-url https://download.pytorch.org/whl/cu124"
   ]
  },
  {
   "cell_type": "code",
   "execution_count": 3,
   "id": "1fc4e039-47ba-44fc-ba9d-da6875200cd8",
   "metadata": {
    "editable": true,
    "slideshow": {
     "slide_type": ""
    },
    "tags": []
   },
   "outputs": [
    {
     "name": "stdout",
     "output_type": "stream",
     "text": [
      "2.2.2+cu121\n"
     ]
    }
   ],
   "source": [
    "import torch\n",
    "print(torch.__version__)"
   ]
  },
  {
   "cell_type": "code",
   "execution_count": 4,
   "id": "c0c74588-d651-4a12-906f-de574987478b",
   "metadata": {},
   "outputs": [
    {
     "name": "stdout",
     "output_type": "stream",
     "text": [
      "/home/lkarimi/myvenv/bin/python\n"
     ]
    }
   ],
   "source": [
    "import sys\n",
    "print(sys.executable)"
   ]
  },
  {
   "cell_type": "code",
   "execution_count": 5,
   "id": "3aaf99e2-92d2-4d5e-82df-eb929236c334",
   "metadata": {},
   "outputs": [
    {
     "name": "stdout",
     "output_type": "stream",
     "text": [
      "False\n"
     ]
    }
   ],
   "source": [
    "print(torch.cuda.is_available())"
   ]
  },
  {
   "cell_type": "code",
   "execution_count": 6,
   "id": "d762b4c9-eb31-48e0-b4a5-ee88a242cb12",
   "metadata": {},
   "outputs": [
    {
     "name": "stdout",
     "output_type": "stream",
     "text": [
      "False\n",
      "0\n"
     ]
    },
    {
     "ename": "RuntimeError",
     "evalue": "No CUDA GPUs are available",
     "output_type": "error",
     "traceback": [
      "\u001b[0;31m---------------------------------------------------------------------------\u001b[0m",
      "\u001b[0;31mRuntimeError\u001b[0m                              Traceback (most recent call last)",
      "Cell \u001b[0;32mIn[6], line 4\u001b[0m\n\u001b[1;32m      2\u001b[0m \u001b[38;5;28mprint\u001b[39m(torch\u001b[38;5;241m.\u001b[39mcuda\u001b[38;5;241m.\u001b[39mis_available())\n\u001b[1;32m      3\u001b[0m \u001b[38;5;28mprint\u001b[39m(torch\u001b[38;5;241m.\u001b[39mcuda\u001b[38;5;241m.\u001b[39mdevice_count())\n\u001b[0;32m----> 4\u001b[0m \u001b[38;5;28mprint\u001b[39m(\u001b[43mtorch\u001b[49m\u001b[38;5;241;43m.\u001b[39;49m\u001b[43mcuda\u001b[49m\u001b[38;5;241;43m.\u001b[39;49m\u001b[43mget_device_name\u001b[49m\u001b[43m(\u001b[49m\u001b[38;5;241;43m0\u001b[39;49m\u001b[43m)\u001b[49m)\n",
      "File \u001b[0;32m~/myvenv/lib/python3.10/site-packages/torch/cuda/__init__.py:423\u001b[0m, in \u001b[0;36mget_device_name\u001b[0;34m(device)\u001b[0m\n\u001b[1;32m    411\u001b[0m \u001b[38;5;28;01mdef\u001b[39;00m \u001b[38;5;21mget_device_name\u001b[39m(device: Optional[_device_t] \u001b[38;5;241m=\u001b[39m \u001b[38;5;28;01mNone\u001b[39;00m) \u001b[38;5;241m-\u001b[39m\u001b[38;5;241m>\u001b[39m \u001b[38;5;28mstr\u001b[39m:\n\u001b[1;32m    412\u001b[0m \u001b[38;5;250m    \u001b[39m\u001b[38;5;124mr\u001b[39m\u001b[38;5;124;03m\"\"\"Get the name of a device.\u001b[39;00m\n\u001b[1;32m    413\u001b[0m \n\u001b[1;32m    414\u001b[0m \u001b[38;5;124;03m    Args:\u001b[39;00m\n\u001b[0;32m   (...)\u001b[0m\n\u001b[1;32m    421\u001b[0m \u001b[38;5;124;03m        str: the name of the device\u001b[39;00m\n\u001b[1;32m    422\u001b[0m \u001b[38;5;124;03m    \"\"\"\u001b[39;00m\n\u001b[0;32m--> 423\u001b[0m     \u001b[38;5;28;01mreturn\u001b[39;00m \u001b[43mget_device_properties\u001b[49m\u001b[43m(\u001b[49m\u001b[43mdevice\u001b[49m\u001b[43m)\u001b[49m\u001b[38;5;241m.\u001b[39mname\n",
      "File \u001b[0;32m~/myvenv/lib/python3.10/site-packages/torch/cuda/__init__.py:453\u001b[0m, in \u001b[0;36mget_device_properties\u001b[0;34m(device)\u001b[0m\n\u001b[1;32m    443\u001b[0m \u001b[38;5;28;01mdef\u001b[39;00m \u001b[38;5;21mget_device_properties\u001b[39m(device: _device_t) \u001b[38;5;241m-\u001b[39m\u001b[38;5;241m>\u001b[39m _CudaDeviceProperties:\n\u001b[1;32m    444\u001b[0m \u001b[38;5;250m    \u001b[39m\u001b[38;5;124mr\u001b[39m\u001b[38;5;124;03m\"\"\"Get the properties of a device.\u001b[39;00m\n\u001b[1;32m    445\u001b[0m \n\u001b[1;32m    446\u001b[0m \u001b[38;5;124;03m    Args:\u001b[39;00m\n\u001b[0;32m   (...)\u001b[0m\n\u001b[1;32m    451\u001b[0m \u001b[38;5;124;03m        _CudaDeviceProperties: the properties of the device\u001b[39;00m\n\u001b[1;32m    452\u001b[0m \u001b[38;5;124;03m    \"\"\"\u001b[39;00m\n\u001b[0;32m--> 453\u001b[0m     \u001b[43m_lazy_init\u001b[49m\u001b[43m(\u001b[49m\u001b[43m)\u001b[49m  \u001b[38;5;66;03m# will define _get_device_properties\u001b[39;00m\n\u001b[1;32m    454\u001b[0m     device \u001b[38;5;241m=\u001b[39m _get_device_index(device, optional\u001b[38;5;241m=\u001b[39m\u001b[38;5;28;01mTrue\u001b[39;00m)\n\u001b[1;32m    455\u001b[0m     \u001b[38;5;28;01mif\u001b[39;00m device \u001b[38;5;241m<\u001b[39m \u001b[38;5;241m0\u001b[39m \u001b[38;5;129;01mor\u001b[39;00m device \u001b[38;5;241m>\u001b[39m\u001b[38;5;241m=\u001b[39m device_count():\n",
      "File \u001b[0;32m~/myvenv/lib/python3.10/site-packages/torch/cuda/__init__.py:302\u001b[0m, in \u001b[0;36m_lazy_init\u001b[0;34m()\u001b[0m\n\u001b[1;32m    300\u001b[0m \u001b[38;5;28;01mif\u001b[39;00m \u001b[38;5;124m\"\u001b[39m\u001b[38;5;124mCUDA_MODULE_LOADING\u001b[39m\u001b[38;5;124m\"\u001b[39m \u001b[38;5;129;01mnot\u001b[39;00m \u001b[38;5;129;01min\u001b[39;00m os\u001b[38;5;241m.\u001b[39menviron:\n\u001b[1;32m    301\u001b[0m     os\u001b[38;5;241m.\u001b[39menviron[\u001b[38;5;124m\"\u001b[39m\u001b[38;5;124mCUDA_MODULE_LOADING\u001b[39m\u001b[38;5;124m\"\u001b[39m] \u001b[38;5;241m=\u001b[39m \u001b[38;5;124m\"\u001b[39m\u001b[38;5;124mLAZY\u001b[39m\u001b[38;5;124m\"\u001b[39m\n\u001b[0;32m--> 302\u001b[0m \u001b[43mtorch\u001b[49m\u001b[38;5;241;43m.\u001b[39;49m\u001b[43m_C\u001b[49m\u001b[38;5;241;43m.\u001b[39;49m\u001b[43m_cuda_init\u001b[49m\u001b[43m(\u001b[49m\u001b[43m)\u001b[49m\n\u001b[1;32m    303\u001b[0m \u001b[38;5;66;03m# Some of the queued calls may reentrantly call _lazy_init();\u001b[39;00m\n\u001b[1;32m    304\u001b[0m \u001b[38;5;66;03m# we need to just return without initializing in that case.\u001b[39;00m\n\u001b[1;32m    305\u001b[0m \u001b[38;5;66;03m# However, we must not let any *other* threads in!\u001b[39;00m\n\u001b[1;32m    306\u001b[0m _tls\u001b[38;5;241m.\u001b[39mis_initializing \u001b[38;5;241m=\u001b[39m \u001b[38;5;28;01mTrue\u001b[39;00m\n",
      "\u001b[0;31mRuntimeError\u001b[0m: No CUDA GPUs are available"
     ]
    }
   ],
   "source": [
    "import torch\n",
    "print(torch.cuda.is_available())\n",
    "print(torch.cuda.device_count())\n",
    "print(torch.cuda.get_device_name(0))"
   ]
  },
  {
   "cell_type": "code",
   "execution_count": null,
   "id": "c5d410c4-6991-4d75-9a2c-ae33625429a3",
   "metadata": {
    "scrolled": true
   },
   "outputs": [],
   "source": [
    "%%capture capt\n",
    "# Use %run to start our script within the jupyter's namespace \n",
    "%run mobility_only.py --gpu cuda:0 --dataset mnist --model cnn"
   ]
  },
  {
   "cell_type": "code",
   "execution_count": null,
   "id": "297e8627-c15b-46b3-ab66-6b49a1a4a40e",
   "metadata": {},
   "outputs": [],
   "source": [
    "print(capt.show()) # Print both stdout and stderr"
   ]
  },
  {
   "cell_type": "code",
   "execution_count": null,
   "id": "e02def9a-4f03-4b66-8b98-5b09eda0be89",
   "metadata": {},
   "outputs": [],
   "source": [
    "# print(capt.stdout) # Print just stdout\n",
    "# print(capt.stderr) # Print just stderr"
   ]
  },
  {
   "cell_type": "code",
   "execution_count": null,
   "id": "1e2598e8-4d52-491c-b90f-900cbad349f5",
   "metadata": {},
   "outputs": [],
   "source": [
    "sys.getsizeof(capt) # What in the size of our capt object?"
   ]
  },
  {
   "cell_type": "code",
   "execution_count": null,
   "id": "a2826150-86c6-4a48-9059-de660dffee19",
   "metadata": {},
   "outputs": [],
   "source": []
  }
 ],
 "metadata": {
  "kernelspec": {
   "display_name": "myvenv",
   "language": "python",
   "name": "myvenv"
  },
  "language_info": {
   "codemirror_mode": {
    "name": "ipython",
    "version": 3
   },
   "file_extension": ".py",
   "mimetype": "text/x-python",
   "name": "python",
   "nbconvert_exporter": "python",
   "pygments_lexer": "ipython3",
   "version": "3.10.9"
  }
 },
 "nbformat": 4,
 "nbformat_minor": 5
}
